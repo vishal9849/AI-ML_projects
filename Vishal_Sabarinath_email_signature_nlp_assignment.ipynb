{
  "nbformat": 4,
  "nbformat_minor": 0,
  "metadata": {
    "accelerator": "GPU",
    "colab": {
      "provenance": [],
      "authorship_tag": "ABX9TyNYEJiuYFdRPzj3S7Cnlvrl",
      "include_colab_link": true
    },
    "kernelspec": {
      "display_name": "Python 3",
      "name": "python3"
    }
  },
  "cells": [
    {
      "cell_type": "markdown",
      "metadata": {
        "id": "view-in-github",
        "colab_type": "text"
      },
      "source": [
        "<a href=\"https://colab.research.google.com/github/vishal9849/AI-ML_projects/blob/master/Vishal_Sabarinath_email_signature_nlp_assignment.ipynb\" target=\"_parent\"><img src=\"https://colab.research.google.com/assets/colab-badge.svg\" alt=\"Open In Colab\"/></a>"
      ]
    },
    {
      "cell_type": "markdown",
      "metadata": {
        "id": "EAImo6L5mU-N"
      },
      "source": [
        "Vishal Sabarinath Venkatesan(C0801202),\n",
        "Email signature assignment - 1,\n",
        "AML 2304"
      ]
    },
    {
      "cell_type": "code",
      "metadata": {
        "id": "1Dzb29GTmSmn"
      },
      "source": [
        "import spacy\n",
        "import regex as re\n",
        "import string"
      ],
      "execution_count": null,
      "outputs": []
    },
    {
      "cell_type": "code",
      "metadata": {
        "id": "2_AWOkVWqmlT"
      },
      "source": [
        "# function to get name and org details(using spacy)\n",
        "def get_name_and_org(email_array):\n",
        "  '''Takes input as array of strings and returns a tuple of name detials \n",
        "  in a dictionary and a list of organizations (name_dict,org_list)'''\n",
        "\n",
        "  name_dict = {}\n",
        "  org_list = []\n",
        "\n",
        "  sign_index = get_signature_index(email_array)\n",
        "\n",
        "  nlp=spacy.load('en_core_web_sm')\n",
        "  doc_obj = nlp(email_inp[sign_index:])\n",
        "\n",
        "  for ent in doc_obj.ents:\n",
        "\n",
        "    if ent.label_ == 'ORG':\n",
        "      org_list.append(ent)\n",
        "\n",
        "    if ent.label_ == 'PERSON':\n",
        "      name = ent.lower_.split()\n",
        "\n",
        "      if len(name) == 2:\n",
        "        name_dict['first_name']= name[0]\n",
        "        name_dict['last_name'] = name[-1]\n",
        "\n",
        "      if len(name) == 3 :\n",
        "        name_dict['first_name']= name[0]\n",
        "        name_dict['middle_name'] = name[1]\n",
        "        name_dict['last_name'] = name[-1]\n",
        "\n",
        "  return (name_dict,org_list)"
      ],
      "execution_count": null,
      "outputs": []
    },
    {
      "cell_type": "code",
      "metadata": {
        "id": "H8O5_YC7qmrK"
      },
      "source": [
        "# function to match and return job position using regex\n",
        "def get_position(email_inp):\n",
        "  '''Takes input as a string and returns position_list'''\n",
        "  \n",
        "  position_pattern = r'[a-zA-Z].+\\/[\\w]{4}.\\w.+'\n",
        "  position_list = re.findall(position_pattern,email_inp)\n",
        "\n",
        "  return position_list"
      ],
      "execution_count": null,
      "outputs": []
    },
    {
      "cell_type": "code",
      "metadata": {
        "id": "V3wedjoeL1GK"
      },
      "source": [
        "# function to find and retrieve address using regex\n",
        "def get_address(email_array):\n",
        "  '''Takes in a list of strings and returns address_list'''\n",
        "\n",
        "  address_list = []\n",
        "  address_pattern = r'^\\d{3}.+-.\\d{3}.[a-zA-z]+.+'\n",
        "  \n",
        "  for item in email_array:\n",
        "    if item[0].isdigit():\n",
        "      address_list.append(re.findall(address_pattern,item))\n",
        "      \n",
        "  return address_list"
      ],
      "execution_count": null,
      "outputs": []
    },
    {
      "cell_type": "code",
      "metadata": {
        "id": "rm6Ommcaq10S"
      },
      "source": [
        "# function to find and retrive primary and secondary phone numbers using regex\n",
        "def get_phone_numbers(email_inp):\n",
        "  '''Takes string as ans input and returns a tuple containing the list of primary ans secondary phone numbers\n",
        "  (primary_phone_numbers,secondary_phone_number)'''\n",
        "\n",
        "  secondary_phone_pattern = r'\\d{1}.\\d{3}.\\d{3}.\\d{4}'\n",
        "  secondary_phone_number = re.findall(secondary_phone_pattern,email_inp)\n",
        "  \n",
        "  phone_number_pattern = r'\\d{3}.\\d{3}.\\d{4}|\\+\\d{2} \\d{10}'\n",
        "  primary_phone_numbers = re.findall(phone_number_pattern,email_inp)\n",
        "\n",
        "  duplicates = []\n",
        "\n",
        "  # finding and removing duplicates \n",
        "  for item in primary_phone_numbers:\n",
        "    for sec in secondary_phone_number:\n",
        "      if item == sec[2:]:\n",
        "        duplicates.append(item)\n",
        "\n",
        "  for item in duplicates:\n",
        "    primary_phone_numbers.remove(item)\n",
        "\n",
        "\n",
        "  return (primary_phone_numbers,secondary_phone_number)"
      ],
      "execution_count": null,
      "outputs": []
    },
    {
      "cell_type": "code",
      "metadata": {
        "colab": {
          "background_save": true
        },
        "id": "TjCsJgsbTgHr"
      },
      "source": [
        "# function to find and retrieve email_ids using regex\n",
        "def get_emails(email_array):\n",
        "  '''Takes in list of strings and returns list of email_id_list'''\n",
        "  \n",
        "  email_id_list = []\n",
        "  email_id_pattern = r'[a-zA-z\\.]+@[\\w].+\\.[a-zA-z]{3}'\n",
        "\n",
        "  for item in email_array:\n",
        "    if not item[0].isdigit():\n",
        "      email_id_list.append(re.findall(email_id_pattern,item))\n",
        "\n",
        "  return email_id_list"
      ],
      "execution_count": null,
      "outputs": []
    },
    {
      "cell_type": "code",
      "metadata": {
        "id": "9R9DLKqnq73K"
      },
      "source": [
        "# function to check and retrive website url using regex\n",
        "def get_website(email_inp):\n",
        "  '''Takes in string input and return a list of website_list.'''\n",
        "\n",
        "  website_pattern = r'w{3}\\.\\w+\\.[\\w]{3}'\n",
        "  website_list = re.findall(website_pattern,email_inp)\n",
        "  \n",
        "  return website_list"
      ],
      "execution_count": null,
      "outputs": []
    },
    {
      "cell_type": "code",
      "metadata": {
        "id": "CFvxrJefq8FS"
      },
      "source": [
        "# function to check and retrive salutations\n",
        "def get_salutations(email_array):\n",
        "  '''Takes in list of strings and returns a list of salutation_list'''\n",
        "  \n",
        "  salutation_list = []\n",
        "\n",
        "  # Types of salutation : https://site.uit.no/english/writing-style/letters/\n",
        "  closing_salutations = ['your sincerely','sincerely yours','respectfully','kind regards',\n",
        "                        'warm regards','regards', 'best wishes','cheers',\n",
        "                        'thank you','all the best']\n",
        "\n",
        "  for item in email_array:\n",
        "    for salutation in closing_salutations:\n",
        "      if salutation in item.lower():\n",
        "        salutation_list.append(item)\n",
        "\n",
        "  return salutation_list"
      ],
      "execution_count": null,
      "outputs": []
    },
    {
      "cell_type": "code",
      "metadata": {
        "id": "vZipDP_J0cEC"
      },
      "source": [
        "# Function to iterate through the list and print the items\n",
        "def print_items(inp_list,string_inp):\n",
        "  '''Takes in list, iterates over it and prints the items'''\n",
        "\n",
        "  if len(inp_list) > 1: \n",
        "    for index, item in enumerate(inp_list):\n",
        "      if len(item) > 0:\n",
        "        if isinstance(item, list):\n",
        "          print(string_inp,\":\",item[0])\n",
        "        else:  \n",
        "          print(string_inp,index + 1,\":\",item)\n",
        "\n",
        "  elif len(inp_list) == 1:\n",
        "    print(string_inp,\":\",inp_list[0])\n",
        "    \n",
        "  else:\n",
        "    print(\"No\",string_inp,\"in email signature\")"
      ],
      "execution_count": null,
      "outputs": []
    },
    {
      "cell_type": "code",
      "metadata": {
        "id": "Ex6qmvnC9vQv"
      },
      "source": [
        "# function to find the positon of the signature in the mail\n",
        "def get_signature_index(email_array):\n",
        "  '''Takes in list of strings and returns sign_index.'''\n",
        "\n",
        "  # Types of salutation : https://site.uit.no/english/writing-style/letters/\n",
        "  closing_salutations = ['your sincerely','sincerely yours','respectfully','kind regards',\n",
        "                        'warm regards','regards', 'best wishes','cheers','thanks and regards'\n",
        "                        'thank you','all the best']\n",
        "\n",
        "  for sentence in email_array:\n",
        "    for word in closing_salutations:\n",
        "      if word in sentence.lower():\n",
        "        sign_index = email_inp.lower().index(sentence.lower())\n",
        "        return sign_index\n",
        "\n",
        "  return 0"
      ],
      "execution_count": null,
      "outputs": []
    },
    {
      "cell_type": "code",
      "metadata": {
        "id": "h1WHYF_OEj6e"
      },
      "source": [
        "# main function to get all the details\n",
        "def get_email_signature_details(email_input):\n",
        "  '''Takes in email_input as a string and return the signature details.'''\n",
        "\n",
        "  email_array = [line for line in email_input.split('\\n') if len(line) > 0]\n",
        "  \n",
        "  name_dict,org_list = get_name_and_org(email_array)\n",
        "  position_list = get_position(email_input)\n",
        "  address_list = get_address(email_array)\n",
        "  pri_num_list, sec_num_list = get_phone_numbers(email_input)\n",
        "  email_list = get_emails(email_array)\n",
        "  website_list = get_website(email_input)\n",
        "  salutation_list = get_salutations(email_array)\n",
        "\n",
        "  if len(name_dict) == 3:\n",
        "    first_name = name_dict['first_name']\n",
        "    middle_name = name_dict['middle_name']\n",
        "    last_name = name_dict['last_name']\n",
        "  else:\n",
        "    first_name = name_dict['first_name']\n",
        "    middle_name = ''\n",
        "    last_name = name_dict['last_name']\n",
        "\n",
        "  contain_sign = False\n",
        "\n",
        "  if  first_name or  middle_name or  last_name:\n",
        "    contain_sign = True\n",
        "\n",
        "  # Q1- Does email text include a signature?\n",
        "  print('Question 1: Does email include Signature?')\n",
        "  print('Answer 1:',contain_sign)  \n",
        "\n",
        "  # Q2 - Where is this signature?\n",
        "  if contain_sign:\n",
        "    print(\"\\nQuestion 2: Where is the signature?\")\n",
        "    print(\"Answer 2:Contents of the signature are show below:\\n\")\n",
        "    print(\"-----------------------Signature Starts-------------------------\\n\")\n",
        "\n",
        "    print(\"First name:\", first_name)\n",
        "    print(\"Middle name:\", middle_name)\n",
        "    print(\"Last name:\", last_name)\n",
        "    print_items(org_list, \"Org's\")\n",
        "    print_items(position_list, \"Job\")\n",
        "    print_items(address_list, \"Address\")\n",
        "    print_items(pri_num_list, \"Primary number\")\n",
        "    print_items(sec_num_list, \"Secondary number\")\n",
        "    print_items(email_list, \"Email\")\n",
        "    print_items(website_list, \"Website\")\n",
        "    print_items(salutation_list, \"Salutations\")\n",
        "\n",
        "    print(\"\\n-----------------------Signature Ends---------------------------\\n\")\n",
        "\n",
        "  # How Complete is the signature\n",
        "    total_sign_values = 11\n",
        "    count = 0\n",
        "\n",
        "    if first_name:\n",
        "      count += 1\n",
        "    if middle_name:\n",
        "      count += 1\n",
        "    if last_name:\n",
        "      count += 1\n",
        "    if len(org_list) > 0:\n",
        "      count += 1\n",
        "    if len(position_list) > 0:\n",
        "      count += 1\n",
        "    if len(address_list) > 0:\n",
        "      count += 1\n",
        "    if len(pri_num_list) > 0:\n",
        "      count += 1\n",
        "    if len(sec_num_list) > 0:\n",
        "      count += 1\n",
        "    if len(email_list) > 0:\n",
        "      count += 1\n",
        "    if len(website_list) > 0:\n",
        "      count += 1\n",
        "    if len(salutation_list) > 0:\n",
        "      count += 1\n",
        "\n",
        "    print(\"Total elemtns signature can contain are:\", total_sign_values)\n",
        "    print(\"Elements present in the signature are:\", count)\n",
        "    print(\"Question 3: How complete is the signature?\")\n",
        "    print(\"Answer 3:\", (count/total_sign_values) * 100, '%')"
      ],
      "execution_count": null,
      "outputs": []
    },
    {
      "cell_type": "code",
      "metadata": {
        "id": "yWNj-8eSnM4O"
      },
      "source": [
        "email_inp = '''Thanks for sending the updated Documnet, Vishal.\n",
        "I will defenitely look into it and send you the my detailed feedback.\n",
        "\n",
        "\n",
        "All the best, \n",
        "\n",
        "\n",
        "Victor Kruger\n",
        "\n",
        "Pronouns: he/him\n",
        "\n",
        "Applied Project/Work Integrated Learning Supervisor\n",
        "Instructor: AML 2222 AI \n",
        "Cestar College of Business, Health & Technology\n",
        "400 - 265 Yorkland Blvd, Toronto, Ontario, Canada M2J 1S5\n",
        "Jesse.james@cestarcollege.com\n",
        "Tel: 416-485-8588 , 652 415 1254 , 1 205 555 9199, 302 555 9199\n",
        "343/523-0149 , 1/452/454-0149 , 1 200 300 4000\n",
        "Toll-free: 1-877-385-85888 , +91 9603475484\n",
        "www.cestarcollege.com'''"
      ],
      "execution_count": null,
      "outputs": []
    },
    {
      "cell_type": "markdown",
      "metadata": {
        "id": "gM_vMXbUFTE6"
      },
      "source": [
        "**Output: ----------------------------------------------------------------------------------**"
      ]
    },
    {
      "cell_type": "code",
      "metadata": {
        "colab": {
          "base_uri": "https://localhost:8080/"
        },
        "id": "vXib8BgrnNCD",
        "outputId": "17f0e5a0-8609-40c1-b80c-9e051e36f53d"
      },
      "source": [
        "# initating the function to retrive and print all the email details\n",
        "get_email_signature_details(email_inp)"
      ],
      "execution_count": null,
      "outputs": [
        {
          "output_type": "stream",
          "text": [
            "Question 1: Does email include Signature?\n",
            "Answer 1: True\n",
            "\n",
            "Question 2: Where is the signature?\n",
            "Answer 2:Contents of the signature are show below:\n",
            "\n",
            "-----------------------Signature Starts-------------------------\n",
            "\n",
            "First name: victor\n",
            "Middle name: \n",
            "Last name: kruger\n",
            "Org's : Cestar College of Business, Health & Technology\n",
            "Job : Applied Project/Work Integrated Learning Supervisor\n",
            "Address : 400 - 265 Yorkland Blvd, Toronto, Ontario, Canada M2J 1S5\n",
            "Primary number 1 : 416-485-8588\n",
            "Primary number 2 : 652 415 1254\n",
            "Primary number 3 : 302 555 9199\n",
            "Primary number 4 : 343/523-0149\n",
            "Primary number 5 : +91 9603475484\n",
            "Secondary number 1 : 1 205 555 9199\n",
            "Secondary number 2 : 1/452/454-0149\n",
            "Secondary number 3 : 1 200 300 4000\n",
            "Secondary number 4 : 1-877-385-8588\n",
            "Email : Jesse.james@cestarcollege.com\n",
            "Website : www.cestarcollege.com\n",
            "Salutations : All the best, \n",
            "\n",
            "-----------------------Signature Ends---------------------------\n",
            "\n",
            "Total elemtns signature can contain are: 11\n",
            "Elements present in the signature are: 10\n",
            "Question 3: How complete is the signature?\n",
            "Answer 3: 90.9090909090909 %\n"
          ],
          "name": "stdout"
        }
      ]
    },
    {
      "cell_type": "markdown",
      "metadata": {
        "id": "iieA9WjNOmsk"
      },
      "source": [
        "**References**"
      ]
    },
    {
      "cell_type": "code",
      "metadata": {
        "id": "pT84Kh_9OIqz"
      },
      "source": [
        "# References\n",
        "# regex: https://www.w3schools.com/python/python_regex.asp\n",
        "# regex https://www.tutorialspoint.com/python/python_reg_expressions.htm\n",
        "# Types of salutation : https://site.uit.no/english/writing-style/letters/"
      ],
      "execution_count": null,
      "outputs": []
    },
    {
      "cell_type": "code",
      "metadata": {
        "id": "XzQ2gtADOIt8"
      },
      "source": [],
      "execution_count": null,
      "outputs": []
    },
    {
      "cell_type": "markdown",
      "metadata": {
        "id": "65PYWvwGm0V1"
      },
      "source": [
        "**Scratch work!!!!-----------------------------------**"
      ]
    },
    {
      "cell_type": "code",
      "metadata": {
        "colab": {
          "base_uri": "https://localhost:8080/"
        },
        "id": "EBoEk4WkI_FP",
        "outputId": "b793ca9b-332a-4db1-f68c-98f4c9291c79"
      },
      "source": [
        "# signature\n",
        "print(email_inp[get_signature_index([item for item in email_inp.split('\\n') if item]):])"
      ],
      "execution_count": null,
      "outputs": [
        {
          "output_type": "stream",
          "text": [
            "All the best, \n",
            "\n",
            "\n",
            "Victor Kruger\n",
            "\n",
            "Pronouns: he/him\n",
            "\n",
            "Applied Project/Work Integrated Learning Supervisor\n",
            "Instructor: AML 2222 AI \n",
            "Cestar College of Business, Health & Technology\n",
            "400 - 265 Yorkland Blvd, Toronto, Ontario, Canada M2J 1S5\n",
            "Jesse.james@cestarcollege.com\n",
            "Tel: 416-485-8588 , 652 415 1254 , 1 205 555 9199, 302 555 9199\n",
            "343/523-0149 , 1/452/454-0149 , 1 200 300 4000\n",
            "Toll-free: 1-877-385-85888 , +91 9603475484\n",
            "www.cestarcollege.com\n"
          ],
          "name": "stdout"
        }
      ]
    },
    {
      "cell_type": "code",
      "metadata": {
        "colab": {
          "base_uri": "https://localhost:8080/"
        },
        "id": "HdkazC3dm2nK",
        "outputId": "0759a4a2-73a7-4bf1-d4b2-46c6da85f9e5"
      },
      "source": [
        "mail_id_pattern = re.compile(r'[\\w\\.-]+@[\\w\\.-]+')\n",
        "email_address = mail_id_pattern.finditer(email_inp)\n",
        "for match in email_address:\n",
        "  print(match)"
      ],
      "execution_count": null,
      "outputs": [
        {
          "output_type": "stream",
          "text": [
            "<regex.Match object; span=(354, 383), match='Jesse.james@cestarcollege.com'>\n"
          ],
          "name": "stdout"
        }
      ]
    },
    {
      "cell_type": "code",
      "metadata": {
        "colab": {
          "base_uri": "https://localhost:8080/"
        },
        "id": "d4UMP58ZrdoC",
        "outputId": "b56eef27-24b4-40fa-e078-dd491c7387c0"
      },
      "source": [
        "website_pattern = r'w.+.com'\n",
        "website = re.findall(website_pattern,email_inp)\n",
        "website"
      ],
      "execution_count": null,
      "outputs": [
        {
          "output_type": "execute_result",
          "data": {
            "text/plain": [
              "['www.cestarcollege.com']"
            ]
          },
          "metadata": {
            "tags": []
          },
          "execution_count": 17
        }
      ]
    },
    {
      "cell_type": "code",
      "metadata": {
        "colab": {
          "base_uri": "https://localhost:8080/"
        },
        "id": "l24LU1usQxNz",
        "outputId": "7672c659-9e08-4c61-b1da-aea1d13c1204"
      },
      "source": [
        "email_array = [item for item in email_inp.split('\\n') if item]\n",
        "email_array"
      ],
      "execution_count": null,
      "outputs": [
        {
          "output_type": "execute_result",
          "data": {
            "text/plain": [
              "['Thanks for sending the updated Documnet, Vishal.',\n",
              " 'I will defenitely look into it and send you the my detailed feedback.',\n",
              " 'All the best, ',\n",
              " 'Victor Kruger',\n",
              " 'Pronouns: he/him',\n",
              " 'Applied Project/Work Integrated Learning Supervisor',\n",
              " 'Instructor: AML 2222 AI ',\n",
              " 'Cestar College of Business, Health & Technology',\n",
              " '400 - 265 Yorkland Blvd, Toronto, Ontario, Canada M2J 1S5',\n",
              " 'Jesse.james@cestarcollege.com',\n",
              " 'Tel: 416-485-8588 , 652 415 1254 , 1 205 555 9199, 302 555 9199',\n",
              " '343/523-0149 , 1/452/454-0149 , 1 200 300 4000',\n",
              " 'Toll-free: 1-877-385-85888 , +91 9603475484',\n",
              " 'www.cestarcollege.com']"
            ]
          },
          "metadata": {
            "tags": []
          },
          "execution_count": 18
        }
      ]
    },
    {
      "cell_type": "code",
      "metadata": {
        "colab": {
          "base_uri": "https://localhost:8080/"
        },
        "id": "y_9HbeHipzKz",
        "outputId": "5b14e516-abdd-47fc-f25c-b45b540d0647"
      },
      "source": [
        "# Retriving phone number by - ex: 1-205-555-9199, 302-555-9199\n",
        "\n",
        "phone_numbers_str = []\n",
        "\n",
        "for numbers in email_array:\n",
        "  if '-' in numbers:\n",
        "    numbers_chunks = numbers.split('-')\n",
        "    if len(numbers_chunks) >= 3:\n",
        "      phone_numbers_str.append(numbers)\n",
        "\n",
        "phone_number_list = []\n",
        "\n",
        "for item in phone_numbers_str:\n",
        "  if '-' in item:\n",
        "    for item in item.split():\n",
        "      if '-' in item and item[0].isdigit() and len(item.split('-')[-1]) == 4:\n",
        "          phone_number_list.append(item)\n",
        "      else: \n",
        "       if '-' in item and item[0].isdigit() and len(item.split('-')[-1]) > 4:\n",
        "         extra_char = item.split('-')[-1][4]\n",
        "         if extra_char in string.punctuation:\n",
        "           number = item[:len(item)-1]\n",
        "           phone_number_list.append(number)\n",
        "\n",
        "print('phone_number_list',[item for item in phone_number_list if len(item) == 12 or len(item) == 14])"
      ],
      "execution_count": null,
      "outputs": [
        {
          "output_type": "stream",
          "text": [
            "phone_number_list ['416-485-8588', '343/523-0149', '1/452/454-0149']\n"
          ],
          "name": "stdout"
        }
      ]
    },
    {
      "cell_type": "code",
      "metadata": {
        "colab": {
          "base_uri": "https://localhost:8080/"
        },
        "id": "RtS_So1dp35S",
        "outputId": "f374ea83-2627-4781-edd8-e2064458f799"
      },
      "source": [
        "# Retriving phone number by spaces ex: 1 205 555 9199, 302 555 9199\n",
        "numbers_list = []\n",
        "for item in email_array:\n",
        "  sentence_array = item.split()\n",
        "  for index,item in enumerate(sentence_array):\n",
        "    if len(item) == 4 and item.isdigit():\n",
        "        number_array = [item for item in sentence_array[-4:index+1] if item.isdigit()]\n",
        "        if len(number_array) >= 3:\n",
        "          numbers_list.append(' '.join(number_array))\n",
        "        else:\n",
        "          numbers_list.append(' '.join(number_array[1:]))\n",
        "\n",
        "[item for item in numbers_list if len(item) == 12 or len(item) == 14]"
      ],
      "execution_count": null,
      "outputs": [
        {
          "output_type": "execute_result",
          "data": {
            "text/plain": [
              "['302 555 9199', '1 200 300 4000']"
            ]
          },
          "metadata": {
            "tags": []
          },
          "execution_count": 20
        }
      ]
    },
    {
      "cell_type": "code",
      "metadata": {
        "colab": {
          "base_uri": "https://localhost:8080/"
        },
        "id": "ALLYBxIvqBOx",
        "outputId": "ff6e86c1-d51f-4c57-e240-523e626f536c"
      },
      "source": [
        "# Retriving phone number by / and - ex: 250/555-0199\n",
        "number_list = []\n",
        "is_num = False\n",
        "\n",
        "for item in email_array:\n",
        "  if '/' in item and '-' in item:\n",
        "    temp_array = [num for num in item.split() if num[0].isdigit()]\n",
        "    for number in temp_array:\n",
        "      temp = number.split('/')\n",
        "      for item in temp:\n",
        "        if item.isdigit():\n",
        "          is_num = True\n",
        "        elif '-' in item:\n",
        "          temp_var = item.split('-')\n",
        "          for item in temp_var:\n",
        "            if item.isdigit():\n",
        "              is_num = True\n",
        "            else:\n",
        "              is_num = False\n",
        "        else:\n",
        "          is_num = False\n",
        "  \n",
        "      if is_num:\n",
        "        number_list.append(number)\n",
        "        is_num = False\n",
        "\n",
        "print('number_list',[item for item in number_list if len(item) == 12 or len(item) > 12])"
      ],
      "execution_count": null,
      "outputs": [
        {
          "output_type": "stream",
          "text": [
            "number_list ['343/523-0149', '1/452/454-0149']\n"
          ],
          "name": "stdout"
        }
      ]
    },
    {
      "cell_type": "code",
      "metadata": {
        "colab": {
          "base_uri": "https://localhost:8080/"
        },
        "id": "7BuIoGjV0vBd",
        "outputId": "c74ce64d-f275-48e8-9a1f-26f6c3833c07"
      },
      "source": [
        "b = '+91 9603475484 '\n",
        "# re.findall('^\\+\\d{2} \\d{10}',b)\n",
        "re.findall('\\d{3}.\\d{3}.\\d{4}|\\+\\d{2} \\d{10}',b)"
      ],
      "execution_count": null,
      "outputs": [
        {
          "output_type": "execute_result",
          "data": {
            "text/plain": [
              "['+91 9603475484']"
            ]
          },
          "metadata": {
            "tags": []
          },
          "execution_count": 23
        }
      ]
    },
    {
      "cell_type": "code",
      "metadata": {
        "id": "h8braD4X3FLb"
      },
      "source": [],
      "execution_count": null,
      "outputs": []
    }
  ]
}