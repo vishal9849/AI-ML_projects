{
  "nbformat": 4,
  "nbformat_minor": 0,
  "metadata": {
    "colab": {
      "provenance": [],
      "authorship_tag": "ABX9TyPZmGIwmfjl2YE8r5jchpKz",
      "include_colab_link": true
    },
    "kernelspec": {
      "name": "python3",
      "display_name": "Python 3"
    },
    "language_info": {
      "name": "python"
    },
    "accelerator": "GPU"
  },
  "cells": [
    {
      "cell_type": "markdown",
      "metadata": {
        "id": "view-in-github",
        "colab_type": "text"
      },
      "source": [
        "<a href=\"https://colab.research.google.com/github/vishal9849/AI-ML_projects/blob/master/Nlp_vishal_final_assignment.ipynb\" target=\"_parent\"><img src=\"https://colab.research.google.com/assets/colab-badge.svg\" alt=\"Open In Colab\"/></a>"
      ]
    },
    {
      "cell_type": "markdown",
      "metadata": {
        "id": "NomwacXG13f3"
      },
      "source": [
        "**Vishal Sabarinath Venkatesan (C0801202)**"
      ]
    },
    {
      "cell_type": "code",
      "metadata": {
        "id": "D7tbLL0L-FcB"
      },
      "source": [
        "# from google.colab import drive\n",
        "# drive.mount('/content/drive', force_remount= True)"
      ],
      "execution_count": null,
      "outputs": []
    },
    {
      "cell_type": "code",
      "metadata": {
        "id": "_W2P8QgPt-Qg"
      },
      "source": [
        "from google.colab import files\n",
        "\n",
        "import nltk\n",
        "import string\n",
        "\n",
        "from nltk.tokenize import sent_tokenize, word_tokenize\n",
        "from sklearn.feature_extraction.text import CountVectorizer\n",
        "from nltk.corpus import stopwords\n",
        "from textblob import TextBlob\n",
        "\n",
        "from nltk.corpus import state_union\n",
        "from nltk.tokenize import PunktSentenceTokenizer"
      ],
      "execution_count": null,
      "outputs": []
    },
    {
      "cell_type": "markdown",
      "metadata": {
        "id": "O8O2TPu6r2bX"
      },
      "source": [
        "# Hierarchy concepts in NLP"
      ]
    },
    {
      "cell_type": "markdown",
      "metadata": {
        "id": "ULv9fVuCZ4Ay"
      },
      "source": [
        "**Corpus** : A corpus is a large collection of machine-readable texts. It is the singular form of Corpora. \n",
        "Few examples of corpora are: Body of text, medical journals, english language.\n",
        "\n",
        "**Tokens**: In NLP, Tokens are the smaller chunks of text. During the process of **Tokenizations** large sentense of text are converted into smaller parts which are called **Tokens**.\n",
        "\n",
        "**Text**: Text in NLP can be described as a list or a group of tokens.\n",
        "\n",
        "**Doc|Document**: A Doc|Document in NLP is also a sequence of tokens. Also, in **tf-idf** context, a doc can be described as **Bag of words**.\n",
        "\n",
        "**Vector**: Vectors are the mathematical representation of text data. As Machine learning models cannont understand words or sentences, they are  converted into vectors so they can be interpreted by the algorithm. \n",
        "\n",
        "**Character:** A group of characters together represent a string. They can be accessed by their index positions."
      ]
    },
    {
      "cell_type": "code",
      "metadata": {
        "colab": {
          "resources": {
            "http://localhost:8080/nbextensions/google.colab/files.js": {
              "data": "Ly8gQ29weXJpZ2h0IDIwMTcgR29vZ2xlIExMQwovLwovLyBMaWNlbnNlZCB1bmRlciB0aGUgQXBhY2hlIExpY2Vuc2UsIFZlcnNpb24gMi4wICh0aGUgIkxpY2Vuc2UiKTsKLy8geW91IG1heSBub3QgdXNlIHRoaXMgZmlsZSBleGNlcHQgaW4gY29tcGxpYW5jZSB3aXRoIHRoZSBMaWNlbnNlLgovLyBZb3UgbWF5IG9idGFpbiBhIGNvcHkgb2YgdGhlIExpY2Vuc2UgYXQKLy8KLy8gICAgICBodHRwOi8vd3d3LmFwYWNoZS5vcmcvbGljZW5zZXMvTElDRU5TRS0yLjAKLy8KLy8gVW5sZXNzIHJlcXVpcmVkIGJ5IGFwcGxpY2FibGUgbGF3IG9yIGFncmVlZCB0byBpbiB3cml0aW5nLCBzb2Z0d2FyZQovLyBkaXN0cmlidXRlZCB1bmRlciB0aGUgTGljZW5zZSBpcyBkaXN0cmlidXRlZCBvbiBhbiAiQVMgSVMiIEJBU0lTLAovLyBXSVRIT1VUIFdBUlJBTlRJRVMgT1IgQ09ORElUSU9OUyBPRiBBTlkgS0lORCwgZWl0aGVyIGV4cHJlc3Mgb3IgaW1wbGllZC4KLy8gU2VlIHRoZSBMaWNlbnNlIGZvciB0aGUgc3BlY2lmaWMgbGFuZ3VhZ2UgZ292ZXJuaW5nIHBlcm1pc3Npb25zIGFuZAovLyBsaW1pdGF0aW9ucyB1bmRlciB0aGUgTGljZW5zZS4KCi8qKgogKiBAZmlsZW92ZXJ2aWV3IEhlbHBlcnMgZm9yIGdvb2dsZS5jb2xhYiBQeXRob24gbW9kdWxlLgogKi8KKGZ1bmN0aW9uKHNjb3BlKSB7CmZ1bmN0aW9uIHNwYW4odGV4dCwgc3R5bGVBdHRyaWJ1dGVzID0ge30pIHsKICBjb25zdCBlbGVtZW50ID0gZG9jdW1lbnQuY3JlYXRlRWxlbWVudCgnc3BhbicpOwogIGVsZW1lbnQudGV4dENvbnRlbnQgPSB0ZXh0OwogIGZvciAoY29uc3Qga2V5IG9mIE9iamVjdC5rZXlzKHN0eWxlQXR0cmlidXRlcykpIHsKICAgIGVsZW1lbnQuc3R5bGVba2V5XSA9IHN0eWxlQXR0cmlidXRlc1trZXldOwogIH0KICByZXR1cm4gZWxlbWVudDsKfQoKLy8gTWF4IG51bWJlciBvZiBieXRlcyB3aGljaCB3aWxsIGJlIHVwbG9hZGVkIGF0IGEgdGltZS4KY29uc3QgTUFYX1BBWUxPQURfU0laRSA9IDEwMCAqIDEwMjQ7CgpmdW5jdGlvbiBfdXBsb2FkRmlsZXMoaW5wdXRJZCwgb3V0cHV0SWQpIHsKICBjb25zdCBzdGVwcyA9IHVwbG9hZEZpbGVzU3RlcChpbnB1dElkLCBvdXRwdXRJZCk7CiAgY29uc3Qgb3V0cHV0RWxlbWVudCA9IGRvY3VtZW50LmdldEVsZW1lbnRCeUlkKG91dHB1dElkKTsKICAvLyBDYWNoZSBzdGVwcyBvbiB0aGUgb3V0cHV0RWxlbWVudCB0byBtYWtlIGl0IGF2YWlsYWJsZSBmb3IgdGhlIG5leHQgY2FsbAogIC8vIHRvIHVwbG9hZEZpbGVzQ29udGludWUgZnJvbSBQeXRob24uCiAgb3V0cHV0RWxlbWVudC5zdGVwcyA9IHN0ZXBzOwoKICByZXR1cm4gX3VwbG9hZEZpbGVzQ29udGludWUob3V0cHV0SWQpOwp9CgovLyBUaGlzIGlzIHJvdWdobHkgYW4gYXN5bmMgZ2VuZXJhdG9yIChub3Qgc3VwcG9ydGVkIGluIHRoZSBicm93c2VyIHlldCksCi8vIHdoZXJlIHRoZXJlIGFyZSBtdWx0aXBsZSBhc3luY2hyb25vdXMgc3RlcHMgYW5kIHRoZSBQeXRob24gc2lkZSBpcyBnb2luZwovLyB0byBwb2xsIGZvciBjb21wbGV0aW9uIG9mIGVhY2ggc3RlcC4KLy8gVGhpcyB1c2VzIGEgUHJvbWlzZSB0byBibG9jayB0aGUgcHl0aG9uIHNpZGUgb24gY29tcGxldGlvbiBvZiBlYWNoIHN0ZXAsCi8vIHRoZW4gcGFzc2VzIHRoZSByZXN1bHQgb2YgdGhlIHByZXZpb3VzIHN0ZXAgYXMgdGhlIGlucHV0IHRvIHRoZSBuZXh0IHN0ZXAuCmZ1bmN0aW9uIF91cGxvYWRGaWxlc0NvbnRpbnVlKG91dHB1dElkKSB7CiAgY29uc3Qgb3V0cHV0RWxlbWVudCA9IGRvY3VtZW50LmdldEVsZW1lbnRCeUlkKG91dHB1dElkKTsKICBjb25zdCBzdGVwcyA9IG91dHB1dEVsZW1lbnQuc3RlcHM7CgogIGNvbnN0IG5leHQgPSBzdGVwcy5uZXh0KG91dHB1dEVsZW1lbnQubGFzdFByb21pc2VWYWx1ZSk7CiAgcmV0dXJuIFByb21pc2UucmVzb2x2ZShuZXh0LnZhbHVlLnByb21pc2UpLnRoZW4oKHZhbHVlKSA9PiB7CiAgICAvLyBDYWNoZSB0aGUgbGFzdCBwcm9taXNlIHZhbHVlIHRvIG1ha2UgaXQgYXZhaWxhYmxlIHRvIHRoZSBuZXh0CiAgICAvLyBzdGVwIG9mIHRoZSBnZW5lcmF0b3IuCiAgICBvdXRwdXRFbGVtZW50Lmxhc3RQcm9taXNlVmFsdWUgPSB2YWx1ZTsKICAgIHJldHVybiBuZXh0LnZhbHVlLnJlc3BvbnNlOwogIH0pOwp9CgovKioKICogR2VuZXJhdG9yIGZ1bmN0aW9uIHdoaWNoIGlzIGNhbGxlZCBiZXR3ZWVuIGVhY2ggYXN5bmMgc3RlcCBvZiB0aGUgdXBsb2FkCiAqIHByb2Nlc3MuCiAqIEBwYXJhbSB7c3RyaW5nfSBpbnB1dElkIEVsZW1lbnQgSUQgb2YgdGhlIGlucHV0IGZpbGUgcGlja2VyIGVsZW1lbnQuCiAqIEBwYXJhbSB7c3RyaW5nfSBvdXRwdXRJZCBFbGVtZW50IElEIG9mIHRoZSBvdXRwdXQgZGlzcGxheS4KICogQHJldHVybiB7IUl0ZXJhYmxlPCFPYmplY3Q+fSBJdGVyYWJsZSBvZiBuZXh0IHN0ZXBzLgogKi8KZnVuY3Rpb24qIHVwbG9hZEZpbGVzU3RlcChpbnB1dElkLCBvdXRwdXRJZCkgewogIGNvbnN0IGlucHV0RWxlbWVudCA9IGRvY3VtZW50LmdldEVsZW1lbnRCeUlkKGlucHV0SWQpOwogIGlucHV0RWxlbWVudC5kaXNhYmxlZCA9IGZhbHNlOwoKICBjb25zdCBvdXRwdXRFbGVtZW50ID0gZG9jdW1lbnQuZ2V0RWxlbWVudEJ5SWQob3V0cHV0SWQpOwogIG91dHB1dEVsZW1lbnQuaW5uZXJIVE1MID0gJyc7CgogIGNvbnN0IHBpY2tlZFByb21pc2UgPSBuZXcgUHJvbWlzZSgocmVzb2x2ZSkgPT4gewogICAgaW5wdXRFbGVtZW50LmFkZEV2ZW50TGlzdGVuZXIoJ2NoYW5nZScsIChlKSA9PiB7CiAgICAgIHJlc29sdmUoZS50YXJnZXQuZmlsZXMpOwogICAgfSk7CiAgfSk7CgogIGNvbnN0IGNhbmNlbCA9IGRvY3VtZW50LmNyZWF0ZUVsZW1lbnQoJ2J1dHRvbicpOwogIGlucHV0RWxlbWVudC5wYXJlbnRFbGVtZW50LmFwcGVuZENoaWxkKGNhbmNlbCk7CiAgY2FuY2VsLnRleHRDb250ZW50ID0gJ0NhbmNlbCB1cGxvYWQnOwogIGNvbnN0IGNhbmNlbFByb21pc2UgPSBuZXcgUHJvbWlzZSgocmVzb2x2ZSkgPT4gewogICAgY2FuY2VsLm9uY2xpY2sgPSAoKSA9PiB7CiAgICAgIHJlc29sdmUobnVsbCk7CiAgICB9OwogIH0pOwoKICAvLyBXYWl0IGZvciB0aGUgdXNlciB0byBwaWNrIHRoZSBmaWxlcy4KICBjb25zdCBmaWxlcyA9IHlpZWxkIHsKICAgIHByb21pc2U6IFByb21pc2UucmFjZShbcGlja2VkUHJvbWlzZSwgY2FuY2VsUHJvbWlzZV0pLAogICAgcmVzcG9uc2U6IHsKICAgICAgYWN0aW9uOiAnc3RhcnRpbmcnLAogICAgfQogIH07CgogIGNhbmNlbC5yZW1vdmUoKTsKCiAgLy8gRGlzYWJsZSB0aGUgaW5wdXQgZWxlbWVudCBzaW5jZSBmdXJ0aGVyIHBpY2tzIGFyZSBub3QgYWxsb3dlZC4KICBpbnB1dEVsZW1lbnQuZGlzYWJsZWQgPSB0cnVlOwoKICBpZiAoIWZpbGVzKSB7CiAgICByZXR1cm4gewogICAgICByZXNwb25zZTogewogICAgICAgIGFjdGlvbjogJ2NvbXBsZXRlJywKICAgICAgfQogICAgfTsKICB9CgogIGZvciAoY29uc3QgZmlsZSBvZiBmaWxlcykgewogICAgY29uc3QgbGkgPSBkb2N1bWVudC5jcmVhdGVFbGVtZW50KCdsaScpOwogICAgbGkuYXBwZW5kKHNwYW4oZmlsZS5uYW1lLCB7Zm9udFdlaWdodDogJ2JvbGQnfSkpOwogICAgbGkuYXBwZW5kKHNwYW4oCiAgICAgICAgYCgke2ZpbGUudHlwZSB8fCAnbi9hJ30pIC0gJHtmaWxlLnNpemV9IGJ5dGVzLCBgICsKICAgICAgICBgbGFzdCBtb2RpZmllZDogJHsKICAgICAgICAgICAgZmlsZS5sYXN0TW9kaWZpZWREYXRlID8gZmlsZS5sYXN0TW9kaWZpZWREYXRlLnRvTG9jYWxlRGF0ZVN0cmluZygpIDoKICAgICAgICAgICAgICAgICAgICAgICAgICAgICAgICAgICAgJ24vYSd9IC0gYCkpOwogICAgY29uc3QgcGVyY2VudCA9IHNwYW4oJzAlIGRvbmUnKTsKICAgIGxpLmFwcGVuZENoaWxkKHBlcmNlbnQpOwoKICAgIG91dHB1dEVsZW1lbnQuYXBwZW5kQ2hpbGQobGkpOwoKICAgIGNvbnN0IGZpbGVEYXRhUHJvbWlzZSA9IG5ldyBQcm9taXNlKChyZXNvbHZlKSA9PiB7CiAgICAgIGNvbnN0IHJlYWRlciA9IG5ldyBGaWxlUmVhZGVyKCk7CiAgICAgIHJlYWRlci5vbmxvYWQgPSAoZSkgPT4gewogICAgICAgIHJlc29sdmUoZS50YXJnZXQucmVzdWx0KTsKICAgICAgfTsKICAgICAgcmVhZGVyLnJlYWRBc0FycmF5QnVmZmVyKGZpbGUpOwogICAgfSk7CiAgICAvLyBXYWl0IGZvciB0aGUgZGF0YSB0byBiZSByZWFkeS4KICAgIGxldCBmaWxlRGF0YSA9IHlpZWxkIHsKICAgICAgcHJvbWlzZTogZmlsZURhdGFQcm9taXNlLAogICAgICByZXNwb25zZTogewogICAgICAgIGFjdGlvbjogJ2NvbnRpbnVlJywKICAgICAgfQogICAgfTsKCiAgICAvLyBVc2UgYSBjaHVua2VkIHNlbmRpbmcgdG8gYXZvaWQgbWVzc2FnZSBzaXplIGxpbWl0cy4gU2VlIGIvNjIxMTU2NjAuCiAgICBsZXQgcG9zaXRpb24gPSAwOwogICAgd2hpbGUgKHBvc2l0aW9uIDwgZmlsZURhdGEuYnl0ZUxlbmd0aCkgewogICAgICBjb25zdCBsZW5ndGggPSBNYXRoLm1pbihmaWxlRGF0YS5ieXRlTGVuZ3RoIC0gcG9zaXRpb24sIE1BWF9QQVlMT0FEX1NJWkUpOwogICAgICBjb25zdCBjaHVuayA9IG5ldyBVaW50OEFycmF5KGZpbGVEYXRhLCBwb3NpdGlvbiwgbGVuZ3RoKTsKICAgICAgcG9zaXRpb24gKz0gbGVuZ3RoOwoKICAgICAgY29uc3QgYmFzZTY0ID0gYnRvYShTdHJpbmcuZnJvbUNoYXJDb2RlLmFwcGx5KG51bGwsIGNodW5rKSk7CiAgICAgIHlpZWxkIHsKICAgICAgICByZXNwb25zZTogewogICAgICAgICAgYWN0aW9uOiAnYXBwZW5kJywKICAgICAgICAgIGZpbGU6IGZpbGUubmFtZSwKICAgICAgICAgIGRhdGE6IGJhc2U2NCwKICAgICAgICB9LAogICAgICB9OwogICAgICBwZXJjZW50LnRleHRDb250ZW50ID0KICAgICAgICAgIGAke01hdGgucm91bmQoKHBvc2l0aW9uIC8gZmlsZURhdGEuYnl0ZUxlbmd0aCkgKiAxMDApfSUgZG9uZWA7CiAgICB9CiAgfQoKICAvLyBBbGwgZG9uZS4KICB5aWVsZCB7CiAgICByZXNwb25zZTogewogICAgICBhY3Rpb246ICdjb21wbGV0ZScsCiAgICB9CiAgfTsKfQoKc2NvcGUuZ29vZ2xlID0gc2NvcGUuZ29vZ2xlIHx8IHt9OwpzY29wZS5nb29nbGUuY29sYWIgPSBzY29wZS5nb29nbGUuY29sYWIgfHwge307CnNjb3BlLmdvb2dsZS5jb2xhYi5fZmlsZXMgPSB7CiAgX3VwbG9hZEZpbGVzLAogIF91cGxvYWRGaWxlc0NvbnRpbnVlLAp9Owp9KShzZWxmKTsK",
              "ok": true,
              "headers": [
                [
                  "content-type",
                  "application/javascript"
                ]
              ],
              "status": 200,
              "status_text": ""
            }
          },
          "base_uri": "https://localhost:8080/",
          "height": 73
        },
        "id": "TTksvYvluE1e",
        "outputId": "bb5e26b1-524c-439b-e066-cb0c5b8fc9b0"
      },
      "source": [
        "# To upload files from local system\n",
        "inp_file = files.upload()"
      ],
      "execution_count": null,
      "outputs": [
        {
          "output_type": "display_data",
          "data": {
            "text/html": [
              "\n",
              "     <input type=\"file\" id=\"files-9e056646-1e0a-4801-8d6b-30d9c5d8d72d\" name=\"files[]\" multiple disabled\n",
              "        style=\"border:none\" />\n",
              "     <output id=\"result-9e056646-1e0a-4801-8d6b-30d9c5d8d72d\">\n",
              "      Upload widget is only available when the cell has been executed in the\n",
              "      current browser session. Please rerun this cell to enable.\n",
              "      </output>\n",
              "      <script src=\"/nbextensions/google.colab/files.js\"></script> "
            ],
            "text/plain": [
              "<IPython.core.display.HTML object>"
            ]
          },
          "metadata": {
            "tags": []
          }
        },
        {
          "output_type": "stream",
          "text": [
            "Saving sample_text.txt to sample_text (1).txt\n"
          ],
          "name": "stdout"
        }
      ]
    },
    {
      "cell_type": "code",
      "metadata": {
        "id": "9ArOi_klun4-",
        "colab": {
          "base_uri": "https://localhost:8080/",
          "height": 124
        },
        "outputId": "661aa1e3-9d6d-4cd4-be50-51d2cd71c522"
      },
      "source": [
        "# Reading files. Reference:https://www.w3schools.com/python/python_file_open.asp\n",
        "sample_corpus = open('sample_text.txt','r').read()\n",
        "sample_corpus"
      ],
      "execution_count": null,
      "outputs": [
        {
          "output_type": "execute_result",
          "data": {
            "application/vnd.google.colaboratory.intrinsic+json": {
              "type": "string"
            },
            "text/plain": [
              "'The 1 Megawatt of power, 8250 RPM rev limit,\\n complemented with custom-made Michelin Cup Tires\\n upgraded rear Triplex suspension with carbon bevel\\n springs and active shock absorbers and ride height,\\n combined with upgraded revolutionary\\n Koenigsegg Aircore carbon fiber wheels. \\nThe connecting rods were designed by Koenigsegg’s engine architect, Dr. Thomas Johansson. The connecting rods are made from premium Swedish steel. At just 540g – including bolts – they’re as light as previous generations made from titanium, but even stronger.\\n\\nThe piston’s curved face shapes the combustion chamber in such a way so as to reduce peak pressure while maintaining high average pressure. The ceramic coating on the face of the piston prevents hot spots and detonation when the engine runs at maximum power. The piston weighs just 290 grams.\\nMinimal weight is important because Koenigsegg engines have a very long stroke and at 8500rpm, efficiency of movement becomes critical.'"
            ]
          },
          "metadata": {
            "tags": []
          },
          "execution_count": 4
        }
      ]
    },
    {
      "cell_type": "code",
      "metadata": {
        "colab": {
          "base_uri": "https://localhost:8080/",
          "height": 124
        },
        "id": "JpPTOMSdFfSw",
        "outputId": "d1d2f0b6-512a-4ca0-9ead-08c1ac35a9e2"
      },
      "source": [
        "sample_corpus = sample_corpus.strip().replace('\\n','')\n",
        "sample_corpus"
      ],
      "execution_count": null,
      "outputs": [
        {
          "output_type": "execute_result",
          "data": {
            "application/vnd.google.colaboratory.intrinsic+json": {
              "type": "string"
            },
            "text/plain": [
              "'The 1 Megawatt of power, 8250 RPM rev limit, complemented with custom-made Michelin Cup Tires upgraded rear Triplex suspension with carbon bevel springs and active shock absorbers and ride height, combined with upgraded revolutionary Koenigsegg Aircore carbon fiber wheels. The connecting rods were designed by Koenigsegg’s engine architect, Dr. Thomas Johansson. The connecting rods are made from premium Swedish steel. At just 540g – including bolts – they’re as light as previous generations made from titanium, but even stronger.The piston’s curved face shapes the combustion chamber in such a way so as to reduce peak pressure while maintaining high average pressure. The ceramic coating on the face of the piston prevents hot spots and detonation when the engine runs at maximum power. The piston weighs just 290 grams.Minimal weight is important because Koenigsegg engines have a very long stroke and at 8500rpm, efficiency of movement becomes critical.'"
            ]
          },
          "metadata": {
            "tags": []
          },
          "execution_count": 5
        }
      ]
    },
    {
      "cell_type": "code",
      "metadata": {
        "colab": {
          "base_uri": "https://localhost:8080/"
        },
        "id": "gdjgGYXiAwey",
        "outputId": "9013a443-1b9a-42ed-b863-ac72d173b623"
      },
      "source": [
        "nltk.download('punkt')"
      ],
      "execution_count": null,
      "outputs": [
        {
          "output_type": "stream",
          "text": [
            "[nltk_data] Downloading package punkt to /root/nltk_data...\n",
            "[nltk_data]   Package punkt is already up-to-date!\n"
          ],
          "name": "stdout"
        },
        {
          "output_type": "execute_result",
          "data": {
            "text/plain": [
              "True"
            ]
          },
          "metadata": {
            "tags": []
          },
          "execution_count": 6
        }
      ]
    },
    {
      "cell_type": "code",
      "metadata": {
        "id": "eGxKmlAgwp3n",
        "colab": {
          "base_uri": "https://localhost:8080/"
        },
        "outputId": "e8908631-0d4a-4bee-c4d0-b73d63eec066"
      },
      "source": [
        "# Tokenizing the text into sentences\n",
        "sent_tokens = sent_tokenize(sample_corpus)\n",
        "print('Sentenses tokenized:\\n--------------------')\n",
        "sent_tokens"
      ],
      "execution_count": null,
      "outputs": [
        {
          "output_type": "stream",
          "text": [
            "Sentenses tokenized:\n",
            "--------------------\n"
          ],
          "name": "stdout"
        },
        {
          "output_type": "execute_result",
          "data": {
            "text/plain": [
              "['The 1 Megawatt of power, 8250 RPM rev limit, complemented with custom-made Michelin Cup Tires upgraded rear Triplex suspension with carbon bevel springs and active shock absorbers and ride height, combined with upgraded revolutionary Koenigsegg Aircore carbon fiber wheels.',\n",
              " 'The connecting rods were designed by Koenigsegg’s engine architect, Dr. Thomas Johansson.',\n",
              " 'The connecting rods are made from premium Swedish steel.',\n",
              " 'At just 540g – including bolts – they’re as light as previous generations made from titanium, but even stronger.The piston’s curved face shapes the combustion chamber in such a way so as to reduce peak pressure while maintaining high average pressure.',\n",
              " 'The ceramic coating on the face of the piston prevents hot spots and detonation when the engine runs at maximum power.',\n",
              " 'The piston weighs just 290 grams.Minimal weight is important because Koenigsegg engines have a very long stroke and at 8500rpm, efficiency of movement becomes critical.']"
            ]
          },
          "metadata": {
            "tags": []
          },
          "execution_count": 7
        }
      ]
    },
    {
      "cell_type": "code",
      "metadata": {
        "id": "GX3DLPhawp56",
        "colab": {
          "base_uri": "https://localhost:8080/"
        },
        "outputId": "f31b5284-30d8-43c8-9562-7406c5a580bd"
      },
      "source": [
        "# Tokenizing the text into words\n",
        "word_tokens = word_tokenize(sample_corpus)\n",
        "print(\"Sample of tokenized words:\\n---------------\")\n",
        "for word in word_tokens[:7]:\n",
        "  print(word)"
      ],
      "execution_count": null,
      "outputs": [
        {
          "output_type": "stream",
          "text": [
            "Sample of tokenized words:\n",
            "---------------\n",
            "The\n",
            "1\n",
            "Megawatt\n",
            "of\n",
            "power\n",
            ",\n",
            "8250\n"
          ],
          "name": "stdout"
        }
      ]
    },
    {
      "cell_type": "code",
      "metadata": {
        "colab": {
          "base_uri": "https://localhost:8080/"
        },
        "id": "hPLTTsVCC2_Y",
        "outputId": "dda326a5-a1c7-44f8-c3c4-c3ef0d24c79d"
      },
      "source": [
        "# Converting text into vector  \n",
        "# Create a Vectorizer Object\n",
        "vec = CountVectorizer()\n",
        "  \n",
        "vec.fit(sent_tokens)\n",
        "  \n",
        "# Printing the identified Unique words along with their indices\n",
        "print(\"Vocabulary: \", vec.vocabulary_)"
      ],
      "execution_count": null,
      "outputs": [
        {
          "output_type": "stream",
          "text": [
            "Vocabulary:  {'the': 93, 'megawatt': 60, 'of': 64, 'power': 68, '8250': 2, 'rpm': 80, 'rev': 76, 'limit': 55, 'complemented': 25, 'with': 109, 'custom': 30, 'made': 57, 'michelin': 61, 'cup': 28, 'tires': 96, 'upgraded': 100, 'rear': 74, 'triplex': 99, 'suspension': 91, 'carbon': 19, 'bevel': 15, 'springs': 86, 'and': 7, 'active': 5, 'shock': 83, 'absorbers': 4, 'ride': 78, 'height': 44, 'combined': 23, 'revolutionary': 77, 'koenigsegg': 53, 'aircore': 6, 'fiber': 39, 'wheels': 106, 'connecting': 26, 'rods': 79, 'were': 105, 'designed': 31, 'by': 18, 'engine': 35, 'architect': 8, 'dr': 33, 'thomas': 95, 'johansson': 51, 'are': 9, 'from': 40, 'premium': 69, 'swedish': 92, 'steel': 87, 'at': 11, 'just': 52, '540g': 1, 'including': 49, 'bolts': 16, 'they': 94, 're': 73, 'as': 10, 'light': 54, 'previous': 72, 'generations': 41, 'titanium': 97, 'but': 17, 'even': 37, 'stronger': 89, 'piston': 67, 'curved': 29, 'face': 38, 'shapes': 82, 'combustion': 24, 'chamber': 21, 'in': 48, 'such': 90, 'way': 102, 'so': 84, 'to': 98, 'reduce': 75, 'peak': 66, 'pressure': 70, 'while': 108, 'maintaining': 58, 'high': 45, 'average': 12, 'ceramic': 20, 'coating': 22, 'on': 65, 'prevents': 71, 'hot': 46, 'spots': 85, 'detonation': 32, 'when': 107, 'runs': 81, 'maximum': 59, 'weighs': 103, '290': 0, 'grams': 42, 'minimal': 62, 'weight': 104, 'is': 50, 'important': 47, 'because': 13, 'engines': 36, 'have': 43, 'very': 101, 'long': 56, 'stroke': 88, '8500rpm': 3, 'efficiency': 34, 'movement': 63, 'becomes': 14, 'critical': 27}\n"
          ],
          "name": "stdout"
        }
      ]
    },
    {
      "cell_type": "code",
      "metadata": {
        "colab": {
          "base_uri": "https://localhost:8080/"
        },
        "id": "ryBjfWfbEBNJ",
        "outputId": "a1a5edb1-9d62-425a-8758-5b74db556484"
      },
      "source": [
        "  # Encode the Document\n",
        "vector = vec.transform(sent_tokens)\n",
        "  \n",
        "# Encoded text \n",
        "print(\"Encoded Document is:\")\n",
        "print(vector.toarray())"
      ],
      "execution_count": null,
      "outputs": [
        {
          "output_type": "stream",
          "text": [
            "Encoded Document is:\n",
            "[[0 0 1 0 1 1 1 2 0 0 0 0 0 0 0 1 0 0 0 2 0 0 0 1 0 1 0 0 1 0 1 0 0 0 0 0\n",
            "  0 0 0 1 0 0 0 0 1 0 0 0 0 0 0 0 0 1 0 1 0 1 0 0 1 1 0 0 1 0 0 0 1 0 0 0\n",
            "  0 0 1 0 1 1 1 0 1 0 0 1 0 0 1 0 0 0 0 1 0 1 0 0 1 0 0 1 2 0 0 0 0 0 1 0\n",
            "  0 3]\n",
            " [0 0 0 0 0 0 0 0 1 0 0 0 0 0 0 0 0 0 1 0 0 0 0 0 0 0 1 0 0 0 0 1 0 1 0 1\n",
            "  0 0 0 0 0 0 0 0 0 0 0 0 0 0 0 1 0 1 0 0 0 0 0 0 0 0 0 0 0 0 0 0 0 0 0 0\n",
            "  0 0 0 0 0 0 0 1 0 0 0 0 0 0 0 0 0 0 0 0 0 1 0 1 0 0 0 0 0 0 0 0 0 1 0 0\n",
            "  0 0]\n",
            " [0 0 0 0 0 0 0 0 0 1 0 0 0 0 0 0 0 0 0 0 0 0 0 0 0 0 1 0 0 0 0 0 0 0 0 0\n",
            "  0 0 0 0 1 0 0 0 0 0 0 0 0 0 0 0 0 0 0 0 0 1 0 0 0 0 0 0 0 0 0 0 0 1 0 0\n",
            "  0 0 0 0 0 0 0 1 0 0 0 0 0 0 0 1 0 0 0 0 1 1 0 0 0 0 0 0 0 0 0 0 0 0 0 0\n",
            "  0 0]\n",
            " [0 1 0 0 0 0 0 0 0 0 3 1 1 0 0 0 1 1 0 0 0 1 0 0 1 0 0 0 0 1 0 0 0 0 0 0\n",
            "  0 1 1 0 1 1 0 0 0 1 0 0 1 1 0 0 1 0 1 0 0 1 1 0 0 0 0 0 0 0 1 1 0 0 2 0\n",
            "  1 1 0 1 0 0 0 0 0 0 1 0 1 0 0 0 0 1 1 0 0 2 1 0 0 1 1 0 0 0 1 0 0 0 0 0\n",
            "  1 0]\n",
            " [0 0 0 0 0 0 0 1 0 0 0 1 0 0 0 0 0 0 0 0 1 0 1 0 0 0 0 0 0 0 0 0 1 0 0 1\n",
            "  0 0 1 0 0 0 0 0 0 0 1 0 0 0 0 0 0 0 0 0 0 0 0 1 0 0 0 0 1 1 0 1 1 0 0 1\n",
            "  0 0 0 0 0 0 0 0 0 1 0 0 0 1 0 0 0 0 0 0 0 4 0 0 0 0 0 0 0 0 0 0 0 0 0 1\n",
            "  0 0]\n",
            " [1 0 0 1 0 0 0 1 0 0 0 1 0 1 1 0 0 0 0 0 0 0 0 0 0 0 0 1 0 0 0 0 0 0 1 0\n",
            "  1 0 0 0 0 0 1 1 0 0 0 1 0 0 1 0 1 1 0 0 1 0 0 0 0 0 1 1 1 0 0 1 0 0 0 0\n",
            "  0 0 0 0 0 0 0 0 0 0 0 0 0 0 0 0 1 0 0 0 0 1 0 0 0 0 0 0 0 1 0 1 1 0 0 0\n",
            "  0 0]]\n"
          ],
          "name": "stdout"
        }
      ]
    },
    {
      "cell_type": "markdown",
      "metadata": {
        "id": "m8CQbDGqODkQ"
      },
      "source": [
        "# Syntactic Parsing\n",
        "\n",
        "**List of Parts of speech tags in NLTK**"
      ]
    },
    {
      "cell_type": "markdown",
      "metadata": {
        "id": "ePIdNyVKOr0U"
      },
      "source": [
        "POS tag list:\n",
        "\n",
        "CC\tcoordinating conjunction\n",
        "\n",
        "CD\tcardinal digit\n",
        "\n",
        "DT\tdeterminer\n",
        "\n",
        "EX\texistential there (like: \"there is\" ... think of it like \"there exists\")\n",
        "\n",
        "FW\tforeign word\n",
        "\n",
        "IN\tpreposition/subordinating conjunction\n",
        "\n",
        "JJ\tadjective\t'big'\n",
        "\n",
        "JJR\tadjective, comparative\t'bigger'\n",
        "\n",
        "JJS\tadjective, superlative\t'biggest'\n",
        "\n",
        "LS\tlist marker\t1)\n",
        "\n",
        "MD\tmodal\tcould, will\n",
        "\n",
        "NN\tnoun, singular 'desk'\n",
        "\n",
        "NNS\tnoun plural\t'desks'\n",
        "\n",
        "NNP\tproper noun, singular\t'Harrison'\n",
        "\n",
        "NNPS\tproper noun, plural\t'Americans'\n",
        "\n",
        "PDT\tpredeterminer\t'all the kids'\n",
        "\n",
        "POS\tpossessive ending\tparent\\'s\n",
        "\n",
        "PRP\tpersonal pronoun\tI, he, she\n",
        "\n",
        "PRP$\tpossessive pronoun\tmy, his, hers\n",
        "\n",
        "RB\tadverb\tvery, silently,\n",
        "\n",
        "RBR\tadverb, comparative\tbetter\n",
        "\n",
        "RBS\tadverb, superlative\tbest\n",
        "\n",
        "RP\tparticle\tgive up\n",
        "\n",
        "TO\tto\tgo 'to' the store.\n",
        "\n",
        "UH\tinterjection\terrrrrrrrm\n",
        "\n",
        "VB\tverb, base form\ttake\n",
        "\n",
        "VBD\tverb, past tense\ttook\n",
        "\n",
        "VBG\tverb, gerund/present participle\ttaking\n",
        "\n",
        "VBN\tverb, past participle\ttaken\n",
        "\n",
        "VBP\tverb, sing. present, non-3d\ttake\n",
        "\n",
        "VBZ\tverb, 3rd person sing. present\ttakes\n",
        "\n",
        "WDT\twh-determiner\twhich\n",
        "\n",
        "WP\twh-pronoun\twho, what\n",
        "\n",
        "WP$\tpossessive wh-pronoun\twhose\n",
        "\n",
        "WRB\twh-abverb\twhere, when\n"
      ]
    },
    {
      "cell_type": "code",
      "metadata": {
        "colab": {
          "base_uri": "https://localhost:8080/"
        },
        "id": "O_txECekQV79",
        "outputId": "bc8870b6-2ff8-44d1-a661-5a99b55194e4"
      },
      "source": [
        "nltk.download('averaged_perceptron_tagger')\n",
        "nltk.download('stopwords')"
      ],
      "execution_count": null,
      "outputs": [
        {
          "output_type": "stream",
          "text": [
            "[nltk_data] Downloading package averaged_perceptron_tagger to\n",
            "[nltk_data]     /root/nltk_data...\n",
            "[nltk_data]   Package averaged_perceptron_tagger is already up-to-\n",
            "[nltk_data]       date!\n",
            "[nltk_data] Downloading package stopwords to /root/nltk_data...\n",
            "[nltk_data]   Package stopwords is already up-to-date!\n"
          ],
          "name": "stdout"
        },
        {
          "output_type": "execute_result",
          "data": {
            "text/plain": [
              "True"
            ]
          },
          "metadata": {
            "tags": []
          },
          "execution_count": 11
        }
      ]
    },
    {
      "cell_type": "code",
      "metadata": {
        "colab": {
          "base_uri": "https://localhost:8080/"
        },
        "id": "D8lft4dTRt4O",
        "outputId": "697772d4-edc3-44e9-cd56-9e70ddef9c1f"
      },
      "source": [
        "cleaned_words = []\n",
        "stop_words = stopwords.words('english')\n",
        "\n",
        "for word in word_tokens:\n",
        "  if word not in stop_words:\n",
        "    if word not in string.punctuation:\n",
        "      cleaned_words.append(word)\n",
        "\n",
        "cleaned_words"
      ],
      "execution_count": null,
      "outputs": [
        {
          "output_type": "execute_result",
          "data": {
            "text/plain": [
              "['The',\n",
              " '1',\n",
              " 'Megawatt',\n",
              " 'power',\n",
              " '8250',\n",
              " 'RPM',\n",
              " 'rev',\n",
              " 'limit',\n",
              " 'complemented',\n",
              " 'custom-made',\n",
              " 'Michelin',\n",
              " 'Cup',\n",
              " 'Tires',\n",
              " 'upgraded',\n",
              " 'rear',\n",
              " 'Triplex',\n",
              " 'suspension',\n",
              " 'carbon',\n",
              " 'bevel',\n",
              " 'springs',\n",
              " 'active',\n",
              " 'shock',\n",
              " 'absorbers',\n",
              " 'ride',\n",
              " 'height',\n",
              " 'combined',\n",
              " 'upgraded',\n",
              " 'revolutionary',\n",
              " 'Koenigsegg',\n",
              " 'Aircore',\n",
              " 'carbon',\n",
              " 'fiber',\n",
              " 'wheels',\n",
              " 'The',\n",
              " 'connecting',\n",
              " 'rods',\n",
              " 'designed',\n",
              " 'Koenigsegg',\n",
              " '’',\n",
              " 'engine',\n",
              " 'architect',\n",
              " 'Dr.',\n",
              " 'Thomas',\n",
              " 'Johansson',\n",
              " 'The',\n",
              " 'connecting',\n",
              " 'rods',\n",
              " 'made',\n",
              " 'premium',\n",
              " 'Swedish',\n",
              " 'steel',\n",
              " 'At',\n",
              " '540g',\n",
              " '–',\n",
              " 'including',\n",
              " 'bolts',\n",
              " '–',\n",
              " '’',\n",
              " 'light',\n",
              " 'previous',\n",
              " 'generations',\n",
              " 'made',\n",
              " 'titanium',\n",
              " 'even',\n",
              " 'stronger.The',\n",
              " 'piston',\n",
              " '’',\n",
              " 'curved',\n",
              " 'face',\n",
              " 'shapes',\n",
              " 'combustion',\n",
              " 'chamber',\n",
              " 'way',\n",
              " 'reduce',\n",
              " 'peak',\n",
              " 'pressure',\n",
              " 'maintaining',\n",
              " 'high',\n",
              " 'average',\n",
              " 'pressure',\n",
              " 'The',\n",
              " 'ceramic',\n",
              " 'coating',\n",
              " 'face',\n",
              " 'piston',\n",
              " 'prevents',\n",
              " 'hot',\n",
              " 'spots',\n",
              " 'detonation',\n",
              " 'engine',\n",
              " 'runs',\n",
              " 'maximum',\n",
              " 'power',\n",
              " 'The',\n",
              " 'piston',\n",
              " 'weighs',\n",
              " '290',\n",
              " 'grams.Minimal',\n",
              " 'weight',\n",
              " 'important',\n",
              " 'Koenigsegg',\n",
              " 'engines',\n",
              " 'long',\n",
              " 'stroke',\n",
              " '8500rpm',\n",
              " 'efficiency',\n",
              " 'movement',\n",
              " 'becomes',\n",
              " 'critical']"
            ]
          },
          "metadata": {
            "tags": []
          },
          "execution_count": 12
        }
      ]
    },
    {
      "cell_type": "markdown",
      "metadata": {
        "id": "xk-xm3JoqPDp"
      },
      "source": [
        "\n",
        "**Taggin words with parts of speech**"
      ]
    },
    {
      "cell_type": "code",
      "metadata": {
        "colab": {
          "base_uri": "https://localhost:8080/"
        },
        "id": "TgGrGlcBOsaj",
        "outputId": "0f8a7f81-0ffd-49d0-a337-39e9ab90cd2a"
      },
      "source": [
        "for word in cleaned_words:\n",
        "    words = nltk.word_tokenize(word)\n",
        "    tagged = nltk.pos_tag(words)\n",
        "    print(tagged)"
      ],
      "execution_count": null,
      "outputs": [
        {
          "output_type": "stream",
          "text": [
            "[('The', 'DT')]\n",
            "[('1', 'CD')]\n",
            "[('Megawatt', 'NN')]\n",
            "[('power', 'NN')]\n",
            "[('8250', 'CD')]\n",
            "[('RPM', 'NN')]\n",
            "[('rev', 'NN')]\n",
            "[('limit', 'NN')]\n",
            "[('complemented', 'VBN')]\n",
            "[('custom-made', 'NN')]\n",
            "[('Michelin', 'NN')]\n",
            "[('Cup', 'NN')]\n",
            "[('Tires', 'NNS')]\n",
            "[('upgraded', 'JJ')]\n",
            "[('rear', 'NN')]\n",
            "[('Triplex', 'NN')]\n",
            "[('suspension', 'NN')]\n",
            "[('carbon', 'NN')]\n",
            "[('bevel', 'NN')]\n",
            "[('springs', 'NNS')]\n",
            "[('active', 'JJ')]\n",
            "[('shock', 'NN')]\n",
            "[('absorbers', 'NNS')]\n",
            "[('ride', 'NN')]\n",
            "[('height', 'NN')]\n",
            "[('combined', 'VBN')]\n",
            "[('upgraded', 'JJ')]\n",
            "[('revolutionary', 'JJ')]\n",
            "[('Koenigsegg', 'NNP')]\n",
            "[('Aircore', 'RB')]\n",
            "[('carbon', 'NN')]\n",
            "[('fiber', 'NN')]\n",
            "[('wheels', 'NNS')]\n",
            "[('The', 'DT')]\n",
            "[('connecting', 'VBG')]\n",
            "[('rods', 'NNS')]\n",
            "[('designed', 'VBN')]\n",
            "[('Koenigsegg', 'NNP')]\n",
            "[('’', 'NN')]\n",
            "[('engine', 'NN')]\n",
            "[('architect', 'NN')]\n",
            "[('Dr', 'NNP'), ('.', '.')]\n",
            "[('Thomas', 'NNP')]\n",
            "[('Johansson', 'NN')]\n",
            "[('The', 'DT')]\n",
            "[('connecting', 'VBG')]\n",
            "[('rods', 'NNS')]\n",
            "[('made', 'VBN')]\n",
            "[('premium', 'NN')]\n",
            "[('Swedish', 'JJ')]\n",
            "[('steel', 'NN')]\n",
            "[('At', 'IN')]\n",
            "[('540g', 'CD')]\n",
            "[('–', 'NN')]\n",
            "[('including', 'VBG')]\n",
            "[('bolts', 'NNS')]\n",
            "[('–', 'NN')]\n",
            "[('’', 'NN')]\n",
            "[('light', 'NN')]\n",
            "[('previous', 'JJ')]\n",
            "[('generations', 'NNS')]\n",
            "[('made', 'VBN')]\n",
            "[('titanium', 'NN')]\n",
            "[('even', 'RB')]\n",
            "[('stronger.The', 'NN')]\n",
            "[('piston', 'NN')]\n",
            "[('’', 'NN')]\n",
            "[('curved', 'VBN')]\n",
            "[('face', 'NN')]\n",
            "[('shapes', 'NNS')]\n",
            "[('combustion', 'NN')]\n",
            "[('chamber', 'NN')]\n",
            "[('way', 'NN')]\n",
            "[('reduce', 'VB')]\n",
            "[('peak', 'NN')]\n",
            "[('pressure', 'NN')]\n",
            "[('maintaining', 'VBG')]\n",
            "[('high', 'JJ')]\n",
            "[('average', 'JJ')]\n",
            "[('pressure', 'NN')]\n",
            "[('The', 'DT')]\n",
            "[('ceramic', 'JJ')]\n",
            "[('coating', 'VBG')]\n",
            "[('face', 'NN')]\n",
            "[('piston', 'NN')]\n",
            "[('prevents', 'NNS')]\n",
            "[('hot', 'JJ')]\n",
            "[('spots', 'NNS')]\n",
            "[('detonation', 'NN')]\n",
            "[('engine', 'NN')]\n",
            "[('runs', 'NNS')]\n",
            "[('maximum', 'NN')]\n",
            "[('power', 'NN')]\n",
            "[('The', 'DT')]\n",
            "[('piston', 'NN')]\n",
            "[('weighs', 'NNS')]\n",
            "[('290', 'CD')]\n",
            "[('grams.Minimal', 'NN')]\n",
            "[('weight', 'NN')]\n",
            "[('important', 'JJ')]\n",
            "[('Koenigsegg', 'NNP')]\n",
            "[('engines', 'NNS')]\n",
            "[('long', 'RB')]\n",
            "[('stroke', 'NN')]\n",
            "[('8500rpm', 'CD')]\n",
            "[('efficiency', 'NN')]\n",
            "[('movement', 'NN')]\n",
            "[('becomes', 'NNS')]\n",
            "[('critical', 'JJ')]\n"
          ],
          "name": "stdout"
        }
      ]
    },
    {
      "cell_type": "code",
      "metadata": {
        "colab": {
          "base_uri": "https://localhost:8080/",
          "height": 106
        },
        "id": "364RHOE8krPW",
        "outputId": "e7de7ad0-6e3b-42be-e87c-09a16b1f263b"
      },
      "source": [
        "str_inp = ' '.join(cleaned_words)\n",
        "str_inp"
      ],
      "execution_count": null,
      "outputs": [
        {
          "output_type": "execute_result",
          "data": {
            "application/vnd.google.colaboratory.intrinsic+json": {
              "type": "string"
            },
            "text/plain": [
              "'The 1 Megawatt power 8250 RPM rev limit complemented custom-made Michelin Cup Tires upgraded rear Triplex suspension carbon bevel springs active shock absorbers ride height combined upgraded revolutionary Koenigsegg Aircore carbon fiber wheels The connecting rods designed Koenigsegg ’ engine architect Dr. Thomas Johansson The connecting rods made premium Swedish steel At 540g – including bolts – ’ light previous generations made titanium even stronger.The piston ’ curved face shapes combustion chamber way reduce peak pressure maintaining high average pressure The ceramic coating face piston prevents hot spots detonation engine runs maximum power The piston weighs 290 grams.Minimal weight important Koenigsegg engines long stroke 8500rpm efficiency movement becomes critical'"
            ]
          },
          "metadata": {
            "tags": []
          },
          "execution_count": 14
        }
      ]
    },
    {
      "cell_type": "markdown",
      "metadata": {
        "id": "InAaCj4IqYrw"
      },
      "source": [
        "**Parts of speech tagging using TextBlob**"
      ]
    },
    {
      "cell_type": "code",
      "metadata": {
        "colab": {
          "base_uri": "https://localhost:8080/"
        },
        "id": "_6QfoAtakzVV",
        "outputId": "40034841-c7c0-4892-916c-48ac8843e152"
      },
      "source": [
        "output = TextBlob(str_inp)\n",
        "output.tags"
      ],
      "execution_count": null,
      "outputs": [
        {
          "output_type": "execute_result",
          "data": {
            "text/plain": [
              "[('The', 'DT'),\n",
              " ('1', 'CD'),\n",
              " ('Megawatt', 'NNP'),\n",
              " ('power', 'NN'),\n",
              " ('8250', 'CD'),\n",
              " ('RPM', 'NNP'),\n",
              " ('rev', 'NN'),\n",
              " ('limit', 'NN'),\n",
              " ('complemented', 'VBD'),\n",
              " ('custom-made', 'JJ'),\n",
              " ('Michelin', 'NNP'),\n",
              " ('Cup', 'NNP'),\n",
              " ('Tires', 'NNP'),\n",
              " ('upgraded', 'VBD'),\n",
              " ('rear', 'JJ'),\n",
              " ('Triplex', 'NNP'),\n",
              " ('suspension', 'NN'),\n",
              " ('carbon', 'NN'),\n",
              " ('bevel', 'NN'),\n",
              " ('springs', 'NNS'),\n",
              " ('active', 'JJ'),\n",
              " ('shock', 'NN'),\n",
              " ('absorbers', 'NNS'),\n",
              " ('ride', 'VBP'),\n",
              " ('height', 'RB'),\n",
              " ('combined', 'VBN'),\n",
              " ('upgraded', 'JJ'),\n",
              " ('revolutionary', 'JJ'),\n",
              " ('Koenigsegg', 'NNP'),\n",
              " ('Aircore', 'NNP'),\n",
              " ('carbon', 'NN'),\n",
              " ('fiber', 'NN'),\n",
              " ('wheels', 'VBZ'),\n",
              " ('The', 'DT'),\n",
              " ('connecting', 'NN'),\n",
              " ('rods', 'NNS'),\n",
              " ('designed', 'VBN'),\n",
              " ('Koenigsegg', 'NNP'),\n",
              " ('’', 'NNP'),\n",
              " ('engine', 'NN'),\n",
              " ('architect', 'NN'),\n",
              " ('Dr.', 'NNP'),\n",
              " ('Thomas', 'NNP'),\n",
              " ('Johansson', 'NNP'),\n",
              " ('The', 'DT'),\n",
              " ('connecting', 'NN'),\n",
              " ('rods', 'NNS'),\n",
              " ('made', 'VBD'),\n",
              " ('premium', 'JJ'),\n",
              " ('Swedish', 'JJ'),\n",
              " ('steel', 'NN'),\n",
              " ('At', 'IN'),\n",
              " ('540g', 'CD'),\n",
              " ('–', 'JJ'),\n",
              " ('including', 'VBG'),\n",
              " ('bolts', 'NNS'),\n",
              " ('–', 'JJ'),\n",
              " ('’', 'NNP'),\n",
              " ('light', 'NN'),\n",
              " ('previous', 'JJ'),\n",
              " ('generations', 'NNS'),\n",
              " ('made', 'VBN'),\n",
              " ('titanium', 'NN'),\n",
              " ('even', 'RB'),\n",
              " ('stronger.The', 'VBZ'),\n",
              " ('piston', 'NN'),\n",
              " ('’', 'NNP'),\n",
              " ('curved', 'VBD'),\n",
              " ('face', 'NN'),\n",
              " ('shapes', 'NNS'),\n",
              " ('combustion', 'VBP'),\n",
              " ('chamber', 'VB'),\n",
              " ('way', 'NN'),\n",
              " ('reduce', 'VB'),\n",
              " ('peak', 'JJ'),\n",
              " ('pressure', 'NN'),\n",
              " ('maintaining', 'VBG'),\n",
              " ('high', 'JJ'),\n",
              " ('average', 'JJ'),\n",
              " ('pressure', 'NN'),\n",
              " ('The', 'DT'),\n",
              " ('ceramic', 'JJ'),\n",
              " ('coating', 'NN'),\n",
              " ('face', 'NN'),\n",
              " ('piston', 'NN'),\n",
              " ('prevents', 'NNS'),\n",
              " ('hot', 'JJ'),\n",
              " ('spots', 'NNS'),\n",
              " ('detonation', 'NN'),\n",
              " ('engine', 'NN'),\n",
              " ('runs', 'VBZ'),\n",
              " ('maximum', 'JJ'),\n",
              " ('power', 'NN'),\n",
              " ('The', 'DT'),\n",
              " ('piston', 'NN'),\n",
              " ('weighs', 'VBZ'),\n",
              " ('290', 'CD'),\n",
              " ('grams.Minimal', 'JJ'),\n",
              " ('weight', 'NN'),\n",
              " ('important', 'JJ'),\n",
              " ('Koenigsegg', 'NNP'),\n",
              " ('engines', 'NNS'),\n",
              " ('long', 'RB'),\n",
              " ('stroke', 'VBD'),\n",
              " ('8500rpm', 'CD'),\n",
              " ('efficiency', 'NN'),\n",
              " ('movement', 'NN'),\n",
              " ('becomes', 'VBZ'),\n",
              " ('critical', 'JJ')]"
            ]
          },
          "metadata": {
            "tags": []
          },
          "execution_count": 15
        }
      ]
    },
    {
      "cell_type": "markdown",
      "metadata": {
        "id": "4TmoVHf9kV4C"
      },
      "source": [
        "**The Output tree image after chunking anc chinking works on Jupyter notebook but does not show up on google colab.**\n",
        "\n",
        "# **Chunking**\n",
        "\n",
        "It is the process of dividing text into meaningful groups."
      ]
    },
    {
      "cell_type": "code",
      "metadata": {
        "colab": {
          "base_uri": "https://localhost:8080/"
        },
        "id": "5QRKdrNcxAoo",
        "outputId": "191a0506-6898-4709-ec78-c1d483c77b9c"
      },
      "source": [
        "nltk.download('state_union')"
      ],
      "execution_count": null,
      "outputs": [
        {
          "output_type": "stream",
          "text": [
            "[nltk_data] Downloading package state_union to /root/nltk_data...\n",
            "[nltk_data]   Package state_union is already up-to-date!\n"
          ],
          "name": "stdout"
        },
        {
          "output_type": "execute_result",
          "data": {
            "text/plain": [
              "True"
            ]
          },
          "metadata": {
            "tags": []
          },
          "execution_count": 16
        }
      ]
    },
    {
      "cell_type": "code",
      "metadata": {
        "colab": {
          "base_uri": "https://localhost:8080/"
        },
        "id": "2YPcdrtqxV7U",
        "outputId": "75663a89-371b-4c1d-d084-96bedb9a9013"
      },
      "source": [
        "train_obj = state_union.raw(\"2005-GWBush.txt\")\n",
        "\n",
        "sent_tokenizer = PunktSentenceTokenizer(train_obj)\n",
        "\n",
        "tokenized = sent_tokenizer.tokenize(str_inp)\n",
        "tokenized"
      ],
      "execution_count": null,
      "outputs": [
        {
          "output_type": "execute_result",
          "data": {
            "text/plain": [
              "['The 1 Megawatt power 8250 RPM rev limit complemented custom-made Michelin Cup Tires upgraded rear Triplex suspension carbon bevel springs active shock absorbers ride height combined upgraded revolutionary Koenigsegg Aircore carbon fiber wheels The connecting rods designed Koenigsegg ’ engine architect Dr.',\n",
              " 'Thomas Johansson The connecting rods made premium Swedish steel At 540g – including bolts – ’ light previous generations made titanium even stronger.The piston ’ curved face shapes combustion chamber way reduce peak pressure maintaining high average pressure The ceramic coating face piston prevents hot spots detonation engine runs maximum power The piston weighs 290 grams.Minimal weight important Koenigsegg engines long stroke 8500rpm efficiency movement becomes critical']"
            ]
          },
          "metadata": {
            "tags": []
          },
          "execution_count": 17
        }
      ]
    },
    {
      "cell_type": "code",
      "metadata": {
        "id": "MiYWZzojkRs4"
      },
      "source": [
        "# creting a custom function for chunking and chinking\n",
        "def get_chunks_or_chink(gram_):\n",
        "    try:\n",
        "        for item in tokenized:\n",
        "            print(\" Tokenized sentence:\\n\\n\",item,'\\n --------------------')\n",
        "\n",
        "            words = nltk.word_tokenize(item)\n",
        "            tagged_words = nltk.pos_tag(words)\n",
        "            parser = nltk.RegexpParser(gram_)\n",
        "            output = parser.parse(tagged_words)\n",
        "\n",
        "            print(output)\n",
        "            output.draw()     \n",
        "\n",
        "    except Exception as e:\n",
        "        print(str(e))"
      ],
      "execution_count": null,
      "outputs": []
    },
    {
      "cell_type": "markdown",
      "metadata": {
        "id": "2w-HfhONlaok"
      },
      "source": [
        "Output **chunked.draw()** is a tree image. It's works on Jupyter notebook but does not show up on google colab."
      ]
    },
    {
      "cell_type": "code",
      "metadata": {
        "colab": {
          "base_uri": "https://localhost:8080/"
        },
        "id": "dzO1RPjdkRxB",
        "outputId": "da7f8f4d-fb07-4ae5-bc3a-1cb057809c0b"
      },
      "source": [
        "chunk_gram = r\"\"\"Chunk: {<RB.?>*<VB.?>*<NNP>+<NN>?}\"\"\"\n",
        "\n",
        "get_chunks_or_chink(chunk_gram)"
      ],
      "execution_count": null,
      "outputs": [
        {
          "output_type": "stream",
          "text": [
            " Tokenized sentence:\n",
            "\n",
            " The 1 Megawatt power 8250 RPM rev limit complemented custom-made Michelin Cup Tires upgraded rear Triplex suspension carbon bevel springs active shock absorbers ride height combined upgraded revolutionary Koenigsegg Aircore carbon fiber wheels The connecting rods designed Koenigsegg ’ engine architect Dr. \n",
            " --------------------\n",
            "(S\n",
            "  The/DT\n",
            "  1/CD\n",
            "  (Chunk Megawatt/NNP power/NN)\n",
            "  8250/CD\n",
            "  (Chunk RPM/NNP rev/NN)\n",
            "  limit/NN\n",
            "  complemented/VBD\n",
            "  custom-made/JJ\n",
            "  (Chunk Michelin/NNP Cup/NNP Tires/NNP)\n",
            "  upgraded/VBD\n",
            "  rear/JJ\n",
            "  (Chunk Triplex/NNP suspension/NN)\n",
            "  carbon/NN\n",
            "  bevel/NN\n",
            "  springs/NNS\n",
            "  active/JJ\n",
            "  shock/NN\n",
            "  absorbers/NNS\n",
            "  ride/VBP\n",
            "  height/RB\n",
            "  combined/VBN\n",
            "  upgraded/JJ\n",
            "  revolutionary/JJ\n",
            "  (Chunk Koenigsegg/NNP Aircore/NNP carbon/NN)\n",
            "  fiber/NN\n",
            "  wheels/VBZ\n",
            "  The/DT\n",
            "  connecting/NN\n",
            "  rods/NNS\n",
            "  (Chunk designed/VBN Koenigsegg/NNP ’/NNP engine/NN)\n",
            "  architect/NN\n",
            "  (Chunk Dr/NNP)\n",
            "  ./.)\n",
            "no display name and no $DISPLAY environment variable\n"
          ],
          "name": "stdout"
        }
      ]
    },
    {
      "cell_type": "markdown",
      "metadata": {
        "id": "FEWb4pJtmOiK"
      },
      "source": [
        "## **Chinking**\n",
        "\n",
        "Chinking is similar to chunking.\n",
        "It is the process of removing unwanted words from chunks.\n",
        "\n",
        "The chunk that you remove from your chunk is called chink."
      ]
    },
    {
      "cell_type": "code",
      "metadata": {
        "colab": {
          "base_uri": "https://localhost:8080/"
        },
        "id": "LtmKs5BQmOMD",
        "outputId": "b1c4a48d-7d14-493c-cee7-b5f92445e370"
      },
      "source": [
        "chink_ = r\"\"\"Chunk: {<.*>+}\n",
        "                                    }<VB.?|IN|DT|TO>+{\"\"\"\n",
        "get_chunks_or_chink(chink_)"
      ],
      "execution_count": null,
      "outputs": [
        {
          "output_type": "stream",
          "text": [
            " Tokenized sentence:\n",
            "\n",
            " The 1 Megawatt power 8250 RPM rev limit complemented custom-made Michelin Cup Tires upgraded rear Triplex suspension carbon bevel springs active shock absorbers ride height combined upgraded revolutionary Koenigsegg Aircore carbon fiber wheels The connecting rods designed Koenigsegg ’ engine architect Dr. \n",
            " --------------------\n",
            "(S\n",
            "  The/DT\n",
            "  (Chunk 1/CD Megawatt/NNP power/NN 8250/CD RPM/NNP rev/NN limit/NN)\n",
            "  complemented/VBD\n",
            "  (Chunk custom-made/JJ Michelin/NNP Cup/NNP Tires/NNP)\n",
            "  upgraded/VBD\n",
            "  (Chunk\n",
            "    rear/JJ\n",
            "    Triplex/NNP\n",
            "    suspension/NN\n",
            "    carbon/NN\n",
            "    bevel/NN\n",
            "    springs/NNS\n",
            "    active/JJ\n",
            "    shock/NN\n",
            "    absorbers/NNS)\n",
            "  ride/VBP\n",
            "  (Chunk height/RB)\n",
            "  combined/VBN\n",
            "  (Chunk\n",
            "    upgraded/JJ\n",
            "    revolutionary/JJ\n",
            "    Koenigsegg/NNP\n",
            "    Aircore/NNP\n",
            "    carbon/NN\n",
            "    fiber/NN)\n",
            "  wheels/VBZ\n",
            "  The/DT\n",
            "  (Chunk connecting/NN rods/NNS)\n",
            "  designed/VBN\n",
            "  (Chunk Koenigsegg/NNP ’/NNP engine/NN architect/NN Dr/NNP ./.))\n",
            "no display name and no $DISPLAY environment variable\n"
          ],
          "name": "stdout"
        }
      ]
    },
    {
      "cell_type": "code",
      "metadata": {
        "id": "0L6zasr5lSGg"
      },
      "source": [],
      "execution_count": null,
      "outputs": []
    }
  ]
}